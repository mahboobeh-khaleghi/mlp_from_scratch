{
 "cells": [
  {
   "cell_type": "code",
   "execution_count": 2,
   "metadata": {},
   "outputs": [],
   "source": [
    "from nets import activations"
   ]
  },
  {
   "cell_type": "markdown",
   "metadata": {},
   "source": [
    "# Linear Layer"
   ]
  },
  {
   "cell_type": "code",
   "execution_count": 1,
   "metadata": {},
   "outputs": [],
   "source": [
    "import numpy as np\n",
    "\n",
    "class LinearLayer:\n",
    "   \n",
    "   def __init__(self,in_dim,out_dim, act_func) -> None:\n",
    "      self.weight = np.random.randn(out_dim , in_dim+1) * np.sqrt(2/(in_dim +out_dim ))\n",
    "      self.act_func = act_func\n",
    "      self.in_dim = in_dim\n",
    "      self.out_dim = out_dim\n",
    "      self.score = np.zeros (out_dim)\n",
    "      self.activated = np.zeros (out_dim)\n",
    "      \n",
    "      \n",
    "   def forward (self, x):\n",
    "      x_b = np.ones((x.shape[0], self.in_dim+1))\n",
    "      x_b[: , :self.in_dim] = x\n",
    "      \n",
    "      self.score = np.dot(self.weight , x_b.T).T\n",
    "      self.activated = self.act_func.forward(self.score)\n",
    "      return self.activated\n",
    "   \n",
    "   def backward (self, dloss_da , activated_prev):\n",
    "      \n",
    "      da_ds = self.act_func.backward(self.score)\n",
    "      \n",
    "      dloss_ds = np.multiply (dloss_da, da_ds)\n",
    "      \n",
    "      ds_dw = activated_prev\n",
    "      \n",
    "      dloss_dw = np.dot (dloss_ds.T, ds_dw)\n",
    "      \n",
    "      dloss_da_prev = np.dot (dloss_ds,self.weight)\n",
    "      \n",
    "      dloss_da_prev = dloss_da_prev[:, :-1]\n",
    "      \n",
    "      return dloss_dw, dloss_da_prev\n",
    "   \n",
    "   def update(self,dloss_dw, lr):\n",
    "      self.weight = self.weight - np.multiply(lr, dloss_dw)\n",
    "   \n",
    "   def __repr__(self):\n",
    "      return f\"LinearLayer(in_dim={self.in_dim}, out_dim={self.out_dim}, activation={self.act_func})\"\n"
   ]
  },
  {
   "cell_type": "code",
   "execution_count": 3,
   "metadata": {},
   "outputs": [
    {
     "data": {
      "text/plain": [
       "LinearLayer(in_dim=5, out_dim=3, activation=ReLU)"
      ]
     },
     "execution_count": 3,
     "metadata": {},
     "output_type": "execute_result"
    }
   ],
   "source": [
    "layer = LinearLayer(5, 3, activations.ReLU())\n",
    "\n",
    "layer"
   ]
  },
  {
   "cell_type": "code",
   "execution_count": null,
   "metadata": {},
   "outputs": [],
   "source": [
    "x = "
   ]
  }
 ],
 "metadata": {
  "kernelspec": {
   "display_name": "deep",
   "language": "python",
   "name": "python3"
  },
  "language_info": {
   "codemirror_mode": {
    "name": "ipython",
    "version": 3
   },
   "file_extension": ".py",
   "mimetype": "text/x-python",
   "name": "python",
   "nbconvert_exporter": "python",
   "pygments_lexer": "ipython3",
   "version": "3.9.16"
  },
  "orig_nbformat": 4
 },
 "nbformat": 4,
 "nbformat_minor": 2
}
