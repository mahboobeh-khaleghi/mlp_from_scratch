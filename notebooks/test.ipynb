{
 "cells": [
  {
   "cell_type": "code",
   "execution_count": 1,
   "metadata": {},
   "outputs": [],
   "source": [
    "import numpy as np\n",
    "# from nets.activations import ReLU, Sigmoid \n",
    "import nets "
   ]
  },
  {
   "cell_type": "code",
   "execution_count": 3,
   "metadata": {},
   "outputs": [],
   "source": [
    "n_nodes = [128, 64, 40 ,16 ,8, 3]\n",
    "relu = nets.ReLU()\n",
    "act_func_list = [relu , relu ,relu,relu,relu]\n",
    "lr = 2.5\n",
    "\n",
    "mlp = nets.Mahboobeh(n_nodes , act_func_list, lr)"
   ]
  },
  {
   "cell_type": "code",
   "execution_count": 2,
   "metadata": {},
   "outputs": [
    {
     "name": "stdout",
     "output_type": "stream",
     "text": [
      "ReLU\n",
      "[[0.         0.         0.         0.71226561]\n",
      " [0.         0.         0.         0.        ]\n",
      " [0.         0.         0.         1.42055537]]\n"
     ]
    }
   ],
   "source": [
    "relu = nets.ReLU()\n",
    "print(relu)\n",
    "\n",
    "print(relu.forward(np.random.randn(3, 4)))"
   ]
  },
  {
   "cell_type": "code",
   "execution_count": 3,
   "metadata": {},
   "outputs": [
    {
     "name": "stdout",
     "output_type": "stream",
     "text": [
      "ReLU\n",
      "[[0.8923231  0.         1.7233012  0.80106932]\n",
      " [0.         1.68439575 0.         0.        ]\n",
      " [0.         0.         0.         0.51670687]]\n"
     ]
    }
   ],
   "source": [
    "relu = ReLU()\n",
    "print(relu)"
   ]
  },
  {
   "cell_type": "code",
   "execution_count": 5,
   "metadata": {},
   "outputs": [
    {
     "data": {
      "text/plain": [
       "array([[0.58832094, 0.61166923, 0.18481871],\n",
       "       [0.25467991, 0.44170914, 0.16721055],\n",
       "       [0.4646697 , 0.376767  , 0.72606921],\n",
       "       [0.61913735, 0.2376585 , 0.40221111]])"
      ]
     },
     "execution_count": 5,
     "metadata": {},
     "output_type": "execute_result"
    }
   ],
   "source": [
    "relu = Sigmoid()\n",
    "\n",
    "x = np.random.randn(4, 3)\n",
    "relu.forward(x)"
   ]
  },
  {
   "cell_type": "code",
   "execution_count": null,
   "metadata": {},
   "outputs": [],
   "source": []
  }
 ],
 "metadata": {
  "kernelspec": {
   "display_name": "deep",
   "language": "python",
   "name": "python3"
  },
  "language_info": {
   "codemirror_mode": {
    "name": "ipython",
    "version": 3
   },
   "file_extension": ".py",
   "mimetype": "text/x-python",
   "name": "python",
   "nbconvert_exporter": "python",
   "pygments_lexer": "ipython3",
   "version": "3.9.17"
  },
  "orig_nbformat": 4
 },
 "nbformat": 4,
 "nbformat_minor": 2
}
