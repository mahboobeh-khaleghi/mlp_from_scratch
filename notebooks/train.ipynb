{
 "cells": [
  {
   "cell_type": "code",
   "execution_count": null,
   "metadata": {},
   "outputs": [],
   "source": [
    "from .nets import linear_layer\n",
    "from .dataloaders import cifar10_dataloader\n",
    "\n",
    "class train:\n",
    "    def __init__(self) -> None:\n",
    "        pass\n",
    "    \n",
    "    def forward(self,pickle_path,batchsize ,epochs,in_dim , out_dim, act_func,lr,loss_func):  \n",
    "        data = cifar10_dataloader(pickle_path,batchsize)\n",
    "        for epoch in epochs:\n",
    "            linear= linear_layer(in_dim,out_dim, act_func)\n",
    "            activated_prev =linear.forward(data.read_batches(pickle_path))\n",
    "            dloss_dw, dloss_da_prev= linear.backward(dloss_da , activated_prev)\n",
    "            linear.update(dloss_dw, lr)\n",
    "            \n",
    "             \n",
    "    \n",
    "    "
   ]
  }
 ],
 "metadata": {
  "language_info": {
   "name": "python"
  },
  "orig_nbformat": 4
 },
 "nbformat": 4,
 "nbformat_minor": 2
}
