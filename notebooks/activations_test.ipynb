{
 "cells": [
  {
   "cell_type": "code",
   "execution_count": 4,
   "metadata": {},
   "outputs": [],
   "source": [
    "import numpy as np"
   ]
  },
  {
   "cell_type": "markdown",
   "metadata": {},
   "source": [
    "# Activations"
   ]
  },
  {
   "cell_type": "markdown",
   "metadata": {},
   "source": [
    "- ## ReLU"
   ]
  },
  {
   "cell_type": "code",
   "execution_count": 149,
   "metadata": {},
   "outputs": [],
   "source": [
    "class ReLU:\n",
    "    def __init__(self) -> None:\n",
    "        pass\n",
    "    def forward (self, x):\n",
    "        \"\"\"\n",
    "            Y = ReLU(x)\n",
    "            \n",
    "            parameters:\n",
    "                * x: input of relu\n",
    "                    * size: (batch_size, in_dim)\n",
    "                    \n",
    "            output:\n",
    "                * y: y = relu(x)\n",
    "                    * size: (batch_size, in_dim) \n",
    "        \"\"\"\n",
    "        return np.maximum(0,x)\n",
    "    \n",
    "    def backward (self, x):\n",
    "        \"\"\"\n",
    "            dY/dx \n",
    "            \n",
    "            parameters:\n",
    "                * X: input of relu\n",
    "                    * size: (batch_size, in_dim)\n",
    "                    \n",
    "            outputs:\n",
    "                * dy: dy/dx\n",
    "                    * size: (batch_size, in_dim)\n",
    "        \"\"\"\n",
    "        dy = np.array(x, dtype=float)\n",
    "        dy[dy>0]=1 \n",
    "        dy[dy==0]=0.5\n",
    "        dy[dy<0]=0\n",
    "       \n",
    "        return dy\n",
    "    "
   ]
  },
  {
   "cell_type": "code",
   "execution_count": 181,
   "metadata": {},
   "outputs": [
    {
     "data": {
      "text/plain": [
       "((3, 5), dtype('float64'))"
      ]
     },
     "execution_count": 181,
     "metadata": {},
     "output_type": "execute_result"
    }
   ],
   "source": [
    "X = np.array([\n",
    "    [-10, 5, 0, -5, 10],\n",
    "    [4, -1, 0, 1, -4],\n",
    "    [-5 , -3, 0, 3, 6]\n",
    "], dtype=np.float64)\n",
    "\n",
    "X.shape, X.dtype"
   ]
  },
  {
   "cell_type": "code",
   "execution_count": 182,
   "metadata": {},
   "outputs": [
    {
     "data": {
      "text/plain": [
       "((3, 5), (3, 5))"
      ]
     },
     "execution_count": 182,
     "metadata": {},
     "output_type": "execute_result"
    }
   ],
   "source": [
    "Y_expected = np.array([\n",
    "    [0, 5, 0, 0, 10],\n",
    "    [4, 0, 0, 1, 0],\n",
    "    [0, 0, 0, 3, 6]\n",
    "])\n",
    "\n",
    "dY_expected = np.array([\n",
    "    [0, 1, 0.5, 0, 1],\n",
    "    [1, 0, 0.5, 1, 0],\n",
    "    [0, 0, 0.5, 1, 1]\n",
    "])\n",
    "\n",
    "Y_expected.shape, dY_expected.shape"
   ]
  },
  {
   "cell_type": "code",
   "execution_count": 183,
   "metadata": {},
   "outputs": [
    {
     "name": "stdout",
     "output_type": "stream",
     "text": [
      "[[ True  True  True  True  True]\n",
      " [ True  True  True  True  True]\n",
      " [ True  True  True  True  True]]\n",
      "(3, 5)\n"
     ]
    }
   ],
   "source": [
    "relu = ReLU()\n",
    "\n",
    "Y = relu.forward(X)\n",
    "\n",
    "print(Y==Y_expected)\n",
    "print(Y.shape)"
   ]
  },
  {
   "cell_type": "code",
   "execution_count": 184,
   "metadata": {},
   "outputs": [
    {
     "name": "stdout",
     "output_type": "stream",
     "text": [
      "[[ True  True  True  True  True]\n",
      " [ True  True  True  True  True]\n",
      " [ True  True  True  True  True]]\n",
      "(3, 5)\n"
     ]
    }
   ],
   "source": [
    "dY = relu.backward(X) \n",
    "\n",
    "print(dY==dY_expected)\n",
    "print(dY.shape)"
   ]
  },
  {
   "cell_type": "markdown",
   "metadata": {},
   "source": [
    "- ## Leaky ReLU"
   ]
  },
  {
   "cell_type": "code",
   "execution_count": 205,
   "metadata": {},
   "outputs": [],
   "source": [
    "class LeakyReLU:\n",
    "    def __init__(self,alpha) -> None:\n",
    "        self.alpha = alpha\n",
    "        \n",
    "    def forward (self, x):\n",
    "        \"\"\"\n",
    "            Y = LeakyReLU(x)\n",
    "            \n",
    "            parameters:\n",
    "                * x: input of leaky-relu\n",
    "                    * size: (batch_size, in_dim)\n",
    "                    \n",
    "            output:\n",
    "                * y: y = leaky-relu(x)\n",
    "                    * size: (batch_size, in_dim) \n",
    "        \"\"\"\n",
    "        # return np.maximum(x , self.alpha*x)\n",
    "        return np.maximum(x, np.multiply(self.alpha,x))         # Self.alpha * x does not calculate the multiplication accurately!!!!!!\n",
    "    \n",
    "    def backward (self, x):\n",
    "        \"\"\"\n",
    "            dY/dx \n",
    "            \n",
    "            parameters:\n",
    "                * X: input of leaky-relu\n",
    "                    * size: (batch_size, in_dim)\n",
    "                    \n",
    "            outputs:\n",
    "                * dy: dy/dx\n",
    "                    * size: (batch_size, in_dim)\n",
    "        \"\"\"\n",
    "        dy = np.array(X, dtype=float)\n",
    "        dy[dy>0]=1 \n",
    "        dy[dy==0]=(1+self.alpha)/2\n",
    "        dy[dy<0]=self.alpha\n",
    "       \n",
    "        return dy\n",
    "    "
   ]
  },
  {
   "cell_type": "code",
   "execution_count": 1,
   "metadata": {},
   "outputs": [
    {
     "ename": "NameError",
     "evalue": "name 'np' is not defined",
     "output_type": "error",
     "traceback": [
      "\u001b[1;31m---------------------------------------------------------------------------\u001b[0m",
      "\u001b[1;31mNameError\u001b[0m                                 Traceback (most recent call last)",
      "Cell \u001b[1;32mIn[1], line 1\u001b[0m\n\u001b[1;32m----> 1\u001b[0m Y_expected \u001b[39m=\u001b[39m np\u001b[39m.\u001b[39marray([\n\u001b[0;32m      2\u001b[0m     [\u001b[39m-\u001b[39m\u001b[39m1\u001b[39m, \u001b[39m5\u001b[39m, \u001b[39m0\u001b[39m, \u001b[39m-\u001b[39m\u001b[39m0.5\u001b[39m, \u001b[39m10\u001b[39m],\n\u001b[0;32m      3\u001b[0m     [\u001b[39m4\u001b[39m, \u001b[39m-\u001b[39m\u001b[39m0.1\u001b[39m, \u001b[39m0\u001b[39m, \u001b[39m1\u001b[39m, \u001b[39m-\u001b[39m\u001b[39m0.4\u001b[39m],\n\u001b[0;32m      4\u001b[0m     [\u001b[39m-\u001b[39m\u001b[39m0.5\u001b[39m, \u001b[39m-\u001b[39m\u001b[39m0.3\u001b[39m, \u001b[39m0\u001b[39m, \u001b[39m3\u001b[39m, \u001b[39m6\u001b[39m]\n\u001b[0;32m      5\u001b[0m ])\n\u001b[0;32m      7\u001b[0m dY_expected \u001b[39m=\u001b[39m np\u001b[39m.\u001b[39marray([\n\u001b[0;32m      8\u001b[0m     [\u001b[39m0.1\u001b[39m, \u001b[39m1\u001b[39m, \u001b[39m0.55\u001b[39m, \u001b[39m0.1\u001b[39m, \u001b[39m1\u001b[39m],\n\u001b[0;32m      9\u001b[0m     [\u001b[39m1\u001b[39m, \u001b[39m0.1\u001b[39m, \u001b[39m0.55\u001b[39m, \u001b[39m1\u001b[39m, \u001b[39m0.1\u001b[39m],\n\u001b[0;32m     10\u001b[0m     [\u001b[39m0.1\u001b[39m, \u001b[39m0.1\u001b[39m, \u001b[39m0.55\u001b[39m, \u001b[39m1\u001b[39m, \u001b[39m1\u001b[39m]\n\u001b[0;32m     11\u001b[0m ])\n",
      "\u001b[1;31mNameError\u001b[0m: name 'np' is not defined"
     ]
    }
   ],
   "source": [
    "Y_expected = np.array([\n",
    "    [-1, 5, 0, -0.5, 10],\n",
    "    [4, -0.1, 0, 1, -0.4],\n",
    "    [-0.5, -0.3, 0, 3, 6]\n",
    "])\n",
    "\n",
    "dY_expected = np.array([\n",
    "    [0.1, 1, 0.55, 0.1, 1],\n",
    "    [1, 0.1, 0.55, 1, 0.1],\n",
    "    [0.1, 0.1, 0.55, 1, 1]\n",
    "])"
   ]
  },
  {
   "cell_type": "code",
   "execution_count": 222,
   "metadata": {},
   "outputs": [
    {
     "data": {
      "text/plain": [
       "array([[-10.,   5.,   0.,  -5.,  10.],\n",
       "       [  4.,  -1.,   0.,   1.,  -4.],\n",
       "       [ -5.,  -3.,   0.,   3.,   6.]])"
      ]
     },
     "execution_count": 222,
     "metadata": {},
     "output_type": "execute_result"
    }
   ],
   "source": [
    "X"
   ]
  },
  {
   "cell_type": "code",
   "execution_count": 219,
   "metadata": {},
   "outputs": [],
   "source": [
    "alpha = 0.1\n",
    "leaky_relu = LeakyReLU(alpha)"
   ]
  },
  {
   "cell_type": "code",
   "execution_count": 220,
   "metadata": {},
   "outputs": [
    {
     "name": "stdout",
     "output_type": "stream",
     "text": [
      "[[ True  True  True  True  True]\n",
      " [ True  True  True  True  True]\n",
      " [ True False  True  True  True]]\n",
      "(3, 5)\n"
     ]
    }
   ],
   "source": [
    "Y = leaky_relu.forward(X)\n",
    "\n",
    "print(Y==Y_expected)\n",
    "print(Y.shape)"
   ]
  },
  {
   "cell_type": "code",
   "execution_count": 221,
   "metadata": {},
   "outputs": [
    {
     "name": "stdout",
     "output_type": "stream",
     "text": [
      "[[ True  True  True  True  True]\n",
      " [ True  True  True  True  True]\n",
      " [ True  True  True  True  True]]\n",
      "(3, 5)\n"
     ]
    }
   ],
   "source": [
    "dY = leaky_relu.backward(X) \n",
    "\n",
    "print(dY==dY_expected)\n",
    "print(dY.shape)"
   ]
  },
  {
   "cell_type": "markdown",
   "metadata": {},
   "source": [
    "- ## Sigmoid"
   ]
  },
  {
   "cell_type": "code",
   "execution_count": 230,
   "metadata": {},
   "outputs": [],
   "source": [
    "class Sigmoid:\n",
    "    def __init__(self) -> None:\n",
    "        pass\n",
    "    def forward (self, x):\n",
    "        \"\"\"\n",
    "            Y = Sigmoid(x)\n",
    "            \n",
    "            parameters:\n",
    "                * x: input of Sigmoid\n",
    "                    * size: (batch_size, in_dim)\n",
    "                    \n",
    "            output:\n",
    "                * y: y = Sigmoid(x)\n",
    "                    * size: (batch_size, in_dim) \n",
    "        \"\"\"\n",
    "        \n",
    "        return 1/(1+np.exp(-x))\n",
    "    \n",
    "    def backward (self, x):\n",
    "        \"\"\"\n",
    "            dY/dx \n",
    "            \n",
    "            parameters:\n",
    "                * X: input of Sigmoid\n",
    "                    * size: (batch_size, in_dim)\n",
    "                    \n",
    "            outputs:\n",
    "                * dy: dy/dx\n",
    "                    * size: (batch_size, in_dim)\n",
    "        \"\"\"\n",
    "        s=self.forward(x)\n",
    "        \n",
    "       \n",
    "        return np.multiply(s,1-s)\n",
    "    "
   ]
  },
  {
   "cell_type": "code",
   "execution_count": 231,
   "metadata": {},
   "outputs": [],
   "source": [
    "sigmoid=Sigmoid()"
   ]
  },
  {
   "cell_type": "code",
   "execution_count": 232,
   "metadata": {},
   "outputs": [
    {
     "data": {
      "text/plain": [
       "array([[4.53978687e-05, 9.93307149e-01, 5.00000000e-01, 6.69285092e-03,\n",
       "        9.99954602e-01],\n",
       "       [9.82013790e-01, 2.68941421e-01, 5.00000000e-01, 7.31058579e-01,\n",
       "        1.79862100e-02],\n",
       "       [6.69285092e-03, 4.74258732e-02, 5.00000000e-01, 9.52574127e-01,\n",
       "        9.97527377e-01]])"
      ]
     },
     "execution_count": 232,
     "metadata": {},
     "output_type": "execute_result"
    }
   ],
   "source": [
    "sigmoid.forward(X)"
   ]
  },
  {
   "cell_type": "code",
   "execution_count": 233,
   "metadata": {},
   "outputs": [
    {
     "data": {
      "text/plain": [
       "array([[4.53958077e-05, 6.64805667e-03, 2.50000000e-01, 6.64805667e-03,\n",
       "        4.53958077e-05],\n",
       "       [1.76627062e-02, 1.96611933e-01, 2.50000000e-01, 1.96611933e-01,\n",
       "        1.76627062e-02],\n",
       "       [6.64805667e-03, 4.51766597e-02, 2.50000000e-01, 4.51766597e-02,\n",
       "        2.46650929e-03]])"
      ]
     },
     "execution_count": 233,
     "metadata": {},
     "output_type": "execute_result"
    }
   ],
   "source": [
    "sigmoid.backward(X)"
   ]
  },
  {
   "cell_type": "markdown",
   "metadata": {},
   "source": [
    "- ## Tanh"
   ]
  },
  {
   "cell_type": "code",
   "execution_count": 249,
   "metadata": {},
   "outputs": [],
   "source": [
    "class tanh:\n",
    "    def __init__(self) -> None:\n",
    "        pass\n",
    "    def forward (self, x):\n",
    "        \"\"\"\n",
    "            Y = tanh(x)\n",
    "            \n",
    "            parameters:\n",
    "                * x: input of tanh\n",
    "                    * size: (batch_size, in_dim)\n",
    "                    \n",
    "            output:\n",
    "                * y: y = tanh(x)\n",
    "                    * size: (batch_size, in_dim) \n",
    "        \"\"\"\n",
    "        \n",
    "        return (np.exp(x) - np.exp(-x))/(np.exp(x) + np.exp(-x))\n",
    "    \n",
    "    def backward (self, x):\n",
    "        \"\"\"\n",
    "            dY/dx \n",
    "            \n",
    "            parameters:\n",
    "                * X: input of tanh\n",
    "                    * size: (batch_size, in_dim)\n",
    "                    \n",
    "            outputs:\n",
    "                * dy: dy/dx\n",
    "                    * size: (batch_size, in_dim)\n",
    "        \"\"\"\n",
    "        tanh=self.forward(x)\n",
    "        \n",
    "       \n",
    "        return 1 - np.power(tanh, 2)\n",
    "    "
   ]
  },
  {
   "cell_type": "markdown",
   "metadata": {},
   "source": [
    "- ## Softmax"
   ]
  },
  {
   "cell_type": "code",
   "execution_count": 272,
   "metadata": {},
   "outputs": [],
   "source": [
    "class Softmax:\n",
    "    def __init__(self) -> None:\n",
    "        pass\n",
    "    def forward (self, x):\n",
    "        \"\"\"\n",
    "            Y = Softmax(x)\n",
    "            \n",
    "            parameters:\n",
    "                * x: input of Softmax\n",
    "                    * size: (batch_size, in_dim)\n",
    "                    \n",
    "            output:\n",
    "                * y: y = Softmax(x)\n",
    "                    * size: (batch_size, in_dim) \n",
    "        \"\"\"\n",
    "        exps = np.exp(x)\n",
    "        # shiftx = x - np.max(x, axis=1)\n",
    "        # exps = np.exp(shiftx)\n",
    "        return exps/ np.sum(exps , axis=1)[:,np.newaxis]\n",
    "    \n",
    "    def backward (self, x):\n",
    "        \"\"\"\n",
    "            dY/dx \n",
    "            \n",
    "            parameters:\n",
    "                * X: input of Softmax\n",
    "                    * size: (batch_size, in_dim)\n",
    "                    \n",
    "            outputs:\n",
    "                * dy: dy/dx\n",
    "                    * size: (batch_size, in_dim)\n",
    "        \"\"\"\n",
    "        softmax = self.forward(x)\n",
    "        output = np.multiply(softmax , np.eye(x.shape[1]) - softmax.T)\n",
    "        return output\n",
    "    "
   ]
  },
  {
   "cell_type": "code",
   "execution_count": 273,
   "metadata": {},
   "outputs": [],
   "source": [
    "softmax = Softmax()"
   ]
  },
  {
   "cell_type": "code",
   "execution_count": 274,
   "metadata": {},
   "outputs": [
    {
     "name": "stdout",
     "output_type": "stream",
     "text": [
      "(3, 5)\n",
      "[[2.04726568e-09 6.69254707e-03 4.50940274e-05 3.03841167e-07\n",
      "  9.93262053e-01]\n",
      " [9.30080183e-01 6.26683098e-03 1.70350128e-02 4.63059657e-02\n",
      "  3.12007142e-04]\n",
      " [1.58700177e-05 1.17264451e-04 2.35531946e-03 4.73078561e-02\n",
      "  9.50203690e-01]]\n"
     ]
    }
   ],
   "source": [
    "Y = softmax.forward(X)\n",
    "\n",
    "print(Y.shape)\n",
    "print(Y)"
   ]
  },
  {
   "cell_type": "code",
   "execution_count": null,
   "metadata": {},
   "outputs": [],
   "source": [
    "dY = softmax.backward(X)\n",
    "\n",
    "print(dY.shape)\n",
    "print(dY)"
   ]
  },
  {
   "cell_type": "code",
   "execution_count": 257,
   "metadata": {},
   "outputs": [
    {
     "data": {
      "text/plain": [
       "array([[4.53999298e-05, 1.48413159e+02, 1.00000000e+00, 6.73794700e-03,\n",
       "        2.20264658e+04],\n",
       "       [5.45981500e+01, 3.67879441e-01, 1.00000000e+00, 2.71828183e+00,\n",
       "        1.83156389e-02],\n",
       "       [6.73794700e-03, 4.97870684e-02, 1.00000000e+00, 2.00855369e+01,\n",
       "        4.03428793e+02]])"
      ]
     },
     "execution_count": 257,
     "metadata": {},
     "output_type": "execute_result"
    }
   ],
   "source": [
    "exps = np.exp(X)\n",
    "exps"
   ]
  },
  {
   "cell_type": "code",
   "execution_count": 268,
   "metadata": {},
   "outputs": [
    {
     "data": {
      "text/plain": [
       "(3, 1)"
      ]
     },
     "execution_count": 268,
     "metadata": {},
     "output_type": "execute_result"
    }
   ],
   "source": [
    "np.sum(exps, axis=1)[:, np.newaxis].shape"
   ]
  },
  {
   "cell_type": "code",
   "execution_count": 261,
   "metadata": {},
   "outputs": [
    {
     "data": {
      "text/plain": [
       "(3, 5)"
      ]
     },
     "execution_count": 261,
     "metadata": {},
     "output_type": "execute_result"
    }
   ],
   "source": [
    "exps.shape"
   ]
  },
  {
   "cell_type": "code",
   "execution_count": 264,
   "metadata": {},
   "outputs": [
    {
     "ename": "ValueError",
     "evalue": "operands could not be broadcast together with shapes (3,5) (3,) ",
     "output_type": "error",
     "traceback": [
      "\u001b[1;31m---------------------------------------------------------------------------\u001b[0m",
      "\u001b[1;31mValueError\u001b[0m                                Traceback (most recent call last)",
      "Cell \u001b[1;32mIn[264], line 1\u001b[0m\n\u001b[1;32m----> 1\u001b[0m exps \u001b[39m/\u001b[39;49m np\u001b[39m.\u001b[39;49msum(exps, axis\u001b[39m=\u001b[39;49m\u001b[39m1\u001b[39;49m)\n",
      "\u001b[1;31mValueError\u001b[0m: operands could not be broadcast together with shapes (3,5) (3,) "
     ]
    }
   ],
   "source": [
    "exps / np.sum(exps, axis=1)"
   ]
  },
  {
   "cell_type": "code",
   "execution_count": 8,
   "metadata": {},
   "outputs": [
    {
     "data": {
      "text/plain": [
       "array([[1., 0., 0., 0., 0.],\n",
       "       [0., 1., 0., 0., 0.],\n",
       "       [0., 0., 1., 0., 0.],\n",
       "       [0., 0., 0., 1., 0.],\n",
       "       [0., 0., 0., 0., 1.]])"
      ]
     },
     "execution_count": 8,
     "metadata": {},
     "output_type": "execute_result"
    }
   ],
   "source": [
    "np.eye(5)"
   ]
  },
  {
   "cell_type": "code",
   "execution_count": null,
   "metadata": {},
   "outputs": [],
   "source": []
  }
 ],
 "metadata": {
  "kernelspec": {
   "display_name": "deep",
   "language": "python",
   "name": "python3"
  },
  "language_info": {
   "codemirror_mode": {
    "name": "ipython",
    "version": 3
   },
   "file_extension": ".py",
   "mimetype": "text/x-python",
   "name": "python",
   "nbconvert_exporter": "python",
   "pygments_lexer": "ipython3",
   "version": "3.9.16"
  },
  "orig_nbformat": 4
 },
 "nbformat": 4,
 "nbformat_minor": 2
}
