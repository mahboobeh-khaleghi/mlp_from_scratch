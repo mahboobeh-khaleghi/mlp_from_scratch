{
 "cells": [
  {
   "cell_type": "code",
   "execution_count": 126,
   "metadata": {},
   "outputs": [],
   "source": [
    "import pickle\n",
    "import numpy as np\n",
    "import math\n",
    "from pathlib import Path\n",
    "from matplotlib import pyplot as plt\n"
   ]
  },
  {
   "cell_type": "markdown",
   "metadata": {},
   "source": [
    "# Donwload Dataset"
   ]
  },
  {
   "cell_type": "markdown",
   "metadata": {},
   "source": [
    "# Reading Pickles"
   ]
  },
  {
   "cell_type": "code",
   "execution_count": 127,
   "metadata": {},
   "outputs": [
    {
     "data": {
      "text/plain": [
       "[WindowsPath('datasets/cifar10/data_batch_1'),\n",
       " WindowsPath('datasets/cifar10/data_batch_2'),\n",
       " WindowsPath('datasets/cifar10/data_batch_3'),\n",
       " WindowsPath('datasets/cifar10/data_batch_4'),\n",
       " WindowsPath('datasets/cifar10/data_batch_5')]"
      ]
     },
     "execution_count": 127,
     "metadata": {},
     "output_type": "execute_result"
    }
   ],
   "source": [
    "\n",
    "dataset_path = Path(\"./datasets/cifar10\")\n",
    "batches_path = [Path(f\"./datasets/cifar10/data_batch_{i}\") for i in range(1,6)]\n",
    " \n",
    "batches_path"
   ]
  },
  {
   "cell_type": "markdown",
   "metadata": {},
   "source": [
    "# Read One of the Batches"
   ]
  },
  {
   "cell_type": "code",
   "execution_count": 128,
   "metadata": {},
   "outputs": [],
   "source": [
    "def read_batch(path):\n",
    "    with open (path, \"rb\") as file:\n",
    "        pickle_dict = pickle.load(file , encoding = \"latin1\")\n",
    "    return pickle_dict        "
   ]
  },
  {
   "cell_type": "code",
   "execution_count": 129,
   "metadata": {},
   "outputs": [
    {
     "data": {
      "text/plain": [
       "dict_keys(['batch_label', 'labels', 'data', 'filenames'])"
      ]
     },
     "execution_count": 129,
     "metadata": {},
     "output_type": "execute_result"
    }
   ],
   "source": [
    "selected_batch = batches_path[2]\n",
    "\n",
    "pickle_dict = read_batch(selected_batch)\n",
    "\n",
    "pickle_dict.keys()"
   ]
  },
  {
   "cell_type": "code",
   "execution_count": 130,
   "metadata": {},
   "outputs": [
    {
     "data": {
      "text/plain": [
       "'training batch 3 of 5'"
      ]
     },
     "execution_count": 130,
     "metadata": {},
     "output_type": "execute_result"
    }
   ],
   "source": [
    "pickle_dict['batch_label']"
   ]
  },
  {
   "cell_type": "code",
   "execution_count": 131,
   "metadata": {},
   "outputs": [
    {
     "data": {
      "text/plain": [
       "10000"
      ]
     },
     "execution_count": 131,
     "metadata": {},
     "output_type": "execute_result"
    }
   ],
   "source": [
    "len(pickle_dict['labels'])"
   ]
  },
  {
   "cell_type": "code",
   "execution_count": 132,
   "metadata": {},
   "outputs": [
    {
     "data": {
      "text/plain": [
       "(10000, 3072)"
      ]
     },
     "execution_count": 132,
     "metadata": {},
     "output_type": "execute_result"
    }
   ],
   "source": [
    "pickle_dict['data'].shape"
   ]
  },
  {
   "cell_type": "code",
   "execution_count": 133,
   "metadata": {},
   "outputs": [
    {
     "data": {
      "text/plain": [
       "10000"
      ]
     },
     "execution_count": 133,
     "metadata": {},
     "output_type": "execute_result"
    }
   ],
   "source": [
    "len(pickle_dict['filenames'])"
   ]
  },
  {
   "cell_type": "markdown",
   "metadata": {},
   "source": [
    "# Show an Image of The Selected Batch"
   ]
  },
  {
   "cell_type": "code",
   "execution_count": 134,
   "metadata": {},
   "outputs": [
    {
     "data": {
      "text/plain": [
       "(255, 4)"
      ]
     },
     "execution_count": 134,
     "metadata": {},
     "output_type": "execute_result"
    }
   ],
   "source": [
    "x=pickle_dict['data'][100,:]\n",
    "x.max(), x.min()"
   ]
  },
  {
   "cell_type": "code",
   "execution_count": 135,
   "metadata": {},
   "outputs": [
    {
     "data": {
      "text/plain": [
       "<matplotlib.image.AxesImage at 0x289f14b0f40>"
      ]
     },
     "execution_count": 135,
     "metadata": {},
     "output_type": "execute_result"
    },
    {
     "data": {
      "image/png": "[encoded data removed]",
      "text/plain": [
       "<Figure size 640x480 with 1 Axes>"
      ]
     },
     "metadata": {},
     "output_type": "display_data"
    }
   ],
   "source": [
    "image = np.zeros((32,32,3), dtype=int) \n",
    "image [:,:,0] = x[:1024].reshape(32,32)\n",
    "image [:,:,1] = x[1024:2048].reshape(32,32)\n",
    "image [:,:,2] = x[2048:].reshape(32,32)\n",
    "\n",
    "plt.imshow(image)"
   ]
  },
  {
   "cell_type": "markdown",
   "metadata": {},
   "source": [
    "# Dataloader"
   ]
  },
  {
   "cell_type": "code",
   "execution_count": 137,
   "metadata": {},
   "outputs": [],
   "source": [
    "class Cifar10DataLoader:\n",
    "    def __init__(self, pickles_path, batch_size):\n",
    "        self.data = list()\n",
    "        self.labels = list()\n",
    "        self.batch_size = batch_size\n",
    "        self.read_batches(pickles_path)\n",
    "        \n",
    "    def read_pickle(self, path):\n",
    "        with open (path, \"rb\") as file:\n",
    "            pickle_dict = pickle.load(file , encoding = \"latin1\")\n",
    "        return np.array(pickle_dict[\"labels\"]), pickle_dict[\"data\"]\n",
    "    \n",
    "    def read_batches(self, pickles_path):\n",
    "        \n",
    "        for path in pickles_path:\n",
    "            path_label, path_data = self.read_pickle(path)\n",
    "            self.data.append(path_data)\n",
    "            self.labels.append(path_label)\n",
    "            \n",
    "        self.data = np.concatenate(self.data)  \n",
    "        self.labels = np.concatenate(self.labels)  \n",
    "        \n",
    "    def get_batch(self,ix):\n",
    "        start_ix = ix * self.batch_size\n",
    "        end_ix = (ix+1)* self.batch_size\n",
    "        if end_ix > self.data.shape[0]:\n",
    "            end_ix = self.data.shape[0]\n",
    "        \n",
    "        batch_data = self.data[start_ix :end_ix , :]\n",
    "        batch_labels = self.labels [ start_ix :end_ix ]\n",
    "        \n",
    "        return batch_data , batch_labels\n",
    "    \n",
    "    def get_num_batches(self):\n",
    "        return math.ceil(self.data.shape[0] / self.batch_size)\n",
    "        \n",
    "        \n",
    "    def get_item(self, ix):\n",
    "        return self.data[ix,:],self.labels[ix]"
   ]
  },
  {
   "cell_type": "code",
   "execution_count": 138,
   "metadata": {},
   "outputs": [
    {
     "data": {
      "text/plain": [
       "[WindowsPath('datasets/cifar10/data_batch_1'),\n",
       " WindowsPath('datasets/cifar10/data_batch_2'),\n",
       " WindowsPath('datasets/cifar10/data_batch_3'),\n",
       " WindowsPath('datasets/cifar10/data_batch_4'),\n",
       " WindowsPath('datasets/cifar10/data_batch_5')]"
      ]
     },
     "execution_count": 138,
     "metadata": {},
     "output_type": "execute_result"
    }
   ],
   "source": [
    "dataset_path = Path(\"./datasets/cifar10\")\n",
    "batches_path = [Path(f\"./datasets/cifar10/data_batch_{i}\") for i in range(1,6)]\n",
    " \n",
    "batches_path"
   ]
  },
  {
   "cell_type": "code",
   "execution_count": 139,
   "metadata": {},
   "outputs": [],
   "source": [
    "cifar10 = Cifar10DataLoader(batches_path, 100)"
   ]
  },
  {
   "cell_type": "code",
   "execution_count": 140,
   "metadata": {},
   "outputs": [
    {
     "data": {
      "text/plain": [
       "((3072,), (), 8)"
      ]
     },
     "execution_count": 140,
     "metadata": {},
     "output_type": "execute_result"
    }
   ],
   "source": [
    "x, y = cifar10.get_item(100)\n",
    "\n",
    "x.shape, y.shape, y"
   ]
  },
  {
   "cell_type": "code",
   "execution_count": 141,
   "metadata": {},
   "outputs": [
    {
     "data": {
      "text/plain": [
       "array([213, 211, 211, ..., 203, 213, 226], dtype=uint8)"
      ]
     },
     "execution_count": 141,
     "metadata": {},
     "output_type": "execute_result"
    }
   ],
   "source": [
    "x"
   ]
  },
  {
   "cell_type": "code",
   "execution_count": 142,
   "metadata": {},
   "outputs": [
    {
     "data": {
      "text/plain": [
       "((100, 3072), (100,))"
      ]
     },
     "execution_count": 142,
     "metadata": {},
     "output_type": "execute_result"
    }
   ],
   "source": [
    "X, Y = cifar10.get_batch(20)\n",
    "\n",
    "X.shape, Y.shape"
   ]
  },
  {
   "cell_type": "code",
   "execution_count": null,
   "metadata": {},
   "outputs": [],
   "source": []
  },
  {
   "cell_type": "code",
   "execution_count": null,
   "metadata": {},
   "outputs": [],
   "source": []
  }
 ],
 "metadata": {
  "kernelspec": {
   "display_name": "deep",
   "language": "python",
   "name": "python3"
  },
  "language_info": {
   "codemirror_mode": {
    "name": "ipython",
    "version": 3
   },
   "file_extension": ".py",
   "mimetype": "text/x-python",
   "name": "python",
   "nbconvert_exporter": "python",
   "pygments_lexer": "ipython3",
   "version": "3.9.16"
  },
  "orig_nbformat": 4
 },
 "nbformat": 4,
 "nbformat_minor": 2
}
